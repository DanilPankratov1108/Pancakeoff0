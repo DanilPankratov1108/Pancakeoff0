{
 "cells": [
  {
   "cell_type": "code",
   "execution_count": null,
   "metadata": {},
   "outputs": [],
   "source": [
    "import math\n",
    "import numpy as nm\n",
    "import matplotlib.pyplot as mp\n",
    "ITERATIONS = 20\n",
    "\n",
    "\n",
    "def my_cos(x):\n",
    "    fact = 1\n",
    "\n",
    "    pow = 1\n",
    "    sum = 0\n",
    "    for n in range(0, ITERATIONS, 2):\n",
    "        sum += (((-1)**(n/2)) *pow) / fact\n",
    "        pow *=x*x\n",
    "\n",
    "        fact =fact *(n+1)*(n+2)\n",
    "    return sum\n",
    "\n",
    "\n",
    "\n",
    "\n",
    "print(math.cos(0.4))\n",
    "print(my_cos(0.4))\n",
    "p = nm.pi\n",
    "k=2\n",
    "x=nm.linspace(-p*k,p*k,100)\n",
    "mp.plot(x,my_cos(x),)\n",
    "mp.plot(x,nm.cos(x),'--',color = 'red')\n",
    "mp.show()"
   ]
  }
 ],
 "metadata": {
  "interpreter": {
   "hash": "aee8b7b246df8f9039afb4144a1f6fd8d2ca17a180786b69acc140d282b71a49"
  },
  "kernelspec": {
   "display_name": "Python 3.10.0 64-bit",
   "name": "python3"
  },
  "language_info": {
   "codemirror_mode": {
    "name": "ipython",
    "version": 3
   },
   "file_extension": ".py",
   "mimetype": "text/x-python",
   "name": "python",
   "nbconvert_exporter": "python",
   "pygments_lexer": "ipython3",
   "version": "3.10.0"
  }
 },
 "nbformat": 4,
 "nbformat_minor": 4
}
