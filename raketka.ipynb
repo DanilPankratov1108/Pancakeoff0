{
 "cells": [
  {
   "cell_type": "code",
   "execution_count": 2,
   "metadata": {},
   "outputs": [
    {
     "data": {
      "image/png": "[encoded data removed]",
      "text/plain": [
       "<Figure size 432x288 with 1 Axes>"
      ]
     },
     "metadata": {
      "needs_background": "light"
     },
     "output_type": "display_data"
    }
   ],
   "source": [
    "import numpy as np\n",
    "import math\n",
    "from matplotlib import pyplot as pp\n",
    "\n",
    "MODEL_G = 9.81\n",
    "MODEL_DT = 0.001\n",
    "\n",
    "class Body:\n",
    "    def __init__(self, x, y, vx, vy):\n",
    "\n",
    "        self.x = x\n",
    "        self.y = y\n",
    "        self.vx = vx\n",
    "        self.vy = vy\n",
    "\n",
    "        self.trajectory_x = []\n",
    "        self.trajectory_y = []\n",
    "\n",
    "    def advance(self):\n",
    "       \n",
    "        self.trajectory_x.append(self.x)\n",
    "        self.trajectory_y.append(self.y)\n",
    "\n",
    "        self.x += self.vx * MODEL_DT\n",
    "        self.y += self.vy * MODEL_DT\n",
    "        self.vy -= MODEL_G * MODEL_DT\n",
    "\n",
    "class Rocket(Body):\n",
    "\n",
    "    def __init__(self, x, y, wx, wy, ux, uy, mr, mo, dm):\n",
    "        \n",
    "        super().__init__(0, 0, 10, 100)\n",
    "        \n",
    "        self.x = x\n",
    "        self.y = y\n",
    "        self.mr = mr\n",
    "        self.mo = mo\n",
    "        self.wx = wx\n",
    "        self.wy = wy\n",
    "        self.ux = ux\n",
    "        self.uy = uy\n",
    "        self.dm = dm\n",
    "        self.M = mr + mo\n",
    "\n",
    "    def advance(self):\n",
    "        super().advance()\n",
    "        self.wx = self.vx - self.ux\n",
    "        self.wy = self.vy - self.uy\n",
    "        if self.dm < 0 and self.mo > 0:\n",
    "            self.M += self.dm * MODEL_DT\n",
    "            self.mo += self.dm * MODEL_DT\n",
    "            if MODEL_DT * MODEL_G <= -((self.wy * self.dm) / (self.M)) * MODEL_DT:\n",
    "                    self.vx += -((self.dm * self.wx) / self.M) * MODEL_DT\n",
    "                    self.vy += -((self.dm * self.wy) / self.M) * MODEL_DT\n",
    "            else:\n",
    "                    self.vy -= MODEL_DT * MODEL_G\n",
    "                                    \n",
    "b = Body(0, 0, 10, 100)\n",
    "r = Rocket(0, 0, 10, 10, 5, 5, 14, 15, -3)\n",
    "\n",
    "bodies = [b, r]\n",
    "\n",
    "for t in np.arange(0, 20, MODEL_DT):\n",
    "    for b in bodies:\n",
    "        b.advance()\n",
    "\n",
    "for b in bodies:\n",
    "    pp.plot(b.trajectory_x, b.trajectory_y)\n",
    "pp.show()"
   ]
  }
 ],
 "metadata": {
  "interpreter": {
   "hash": "2d5c9b2bf552802dfed302ad9ab34650aec33349a40c40e1fd4d5d3e5d18baae"
  },
  "kernelspec": {
   "display_name": "Python 3.9.7 64-bit",
   "name": "python3"
  },
  "language_info": {
   "codemirror_mode": {
    "name": "ipython",
    "version": 3
   },
   "file_extension": ".py",
   "mimetype": "text/x-python",
   "name": "python",
   "nbconvert_exporter": "python",
   "pygments_lexer": "ipython3",
   "version": "3.9.7"
  },
  "orig_nbformat": 4
 },
 "nbformat": 4,
 "nbformat_minor": 2
}
